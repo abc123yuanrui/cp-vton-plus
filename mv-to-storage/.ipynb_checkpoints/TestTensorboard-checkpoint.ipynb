{
 "cells": [
  {
   "cell_type": "code",
   "execution_count": 1,
   "metadata": {},
   "outputs": [],
   "source": [
    "%load_ext tensorboard\n",
    "import tensorflow as tf\n",
    "import datetime"
   ]
  },
  {
   "cell_type": "code",
   "execution_count": 2,
   "metadata": {},
   "outputs": [
    {
     "name": "stdout",
     "output_type": "stream",
     "text": [
      "2.3.0\n"
     ]
    }
   ],
   "source": [
    "print(tf.__version__)"
   ]
  },
  {
   "cell_type": "code",
   "execution_count": 4,
   "metadata": {},
   "outputs": [
    {
     "data": {
      "text/plain": [
       "ERROR: Failed to launch TensorBoard (exited with 0).\n",
       "Contents of stderr:\n",
       "2020-09-04 11:54:09.877407: W tensorflow/stream_executor/platform/default/dso_loader.cc:59] Could not load dynamic library 'cudart64_101.dll'; dlerror: cudart64_101.dll not found\n",
       "2020-09-04 11:54:09.880726: I tensorflow/stream_executor/cuda/cudart_stub.cc:29] Ignore above cudart dlerror if you do not have a GPU set up on your machine.\n",
       "Contents of stdout:\n",
       "======================================================================\n",
       "Processing event files... (this can take a few minutes)\n",
       "======================================================================\n",
       "\n",
       "These tags are in events.out.tfevents.1599177023.7a6af9912dc7:\n",
       "audio -\n",
       "histograms -\n",
       "images\n",
       "   combine/000\n",
       "   combine/001\n",
       "   combine/002\n",
       "   combine/003\n",
       "scalars\n",
       "   L1\n",
       "   MaskL1\n",
       "   VGG\n",
       "   metric\n",
       "tensor -\n",
       "======================================================================\n",
       "\n",
       "Event statistics for events.out.tfevents.1599177023.7a6af9912dc7:\n",
       "audio -\n",
       "graph -\n",
       "histograms -\n",
       "images\n",
       "   first_step           20\n",
       "   last_step            34300\n",
       "   max_step             34300\n",
       "   min_step             20\n",
       "   num_steps            1715\n",
       "   outoforder_steps     []\n",
       "scalars\n",
       "   first_step           20\n",
       "   last_step            34300\n",
       "   max_step             34300\n",
       "   min_step             20\n",
       "   num_steps            1715\n",
       "   outoforder_steps     []\n",
       "sessionlog:checkpoint -\n",
       "sessionlog:start -\n",
       "sessionlog:stop -\n",
       "tensor -\n",
       "======================================================================"
      ]
     },
     "metadata": {},
     "output_type": "display_data"
    }
   ],
   "source": [
    "tensorboard --inspect --event_file=events.out.tfevents.1599177023.7a6af9912dc7"
   ]
  },
  {
   "cell_type": "code",
   "execution_count": 3,
   "metadata": {},
   "outputs": [
    {
     "name": "stdout",
     "output_type": "stream",
     "text": [
      "No known TensorBoard instances running.\n"
     ]
    }
   ],
   "source": [
    "from tensorboard import notebook\n",
    "notebook.list() # View open TensorBoard instances"
   ]
  },
  {
   "cell_type": "code",
   "execution_count": 4,
   "metadata": {},
   "outputs": [
    {
     "data": {
      "text/plain": [
       "ERROR: Timed out waiting for TensorBoard to start. It may still be running as pid 10072."
      ]
     },
     "metadata": {},
     "output_type": "display_data"
    }
   ],
   "source": [
    "%tensorboard --logdir {'./'}  --host localhost"
   ]
  },
  {
   "cell_type": "code",
   "execution_count": null,
   "metadata": {},
   "outputs": [],
   "source": []
  }
 ],
 "metadata": {
  "kernelspec": {
   "display_name": "Python 3",
   "language": "python",
   "name": "python3"
  },
  "language_info": {
   "codemirror_mode": {
    "name": "ipython",
    "version": 3
   },
   "file_extension": ".py",
   "mimetype": "text/x-python",
   "name": "python",
   "nbconvert_exporter": "python",
   "pygments_lexer": "ipython3",
   "version": "3.6.8"
  }
 },
 "nbformat": 4,
 "nbformat_minor": 2
}
