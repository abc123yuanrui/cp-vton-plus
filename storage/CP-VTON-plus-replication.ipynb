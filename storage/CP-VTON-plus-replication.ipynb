{
 "cells": [
  {
   "cell_type": "markdown",
   "metadata": {},
   "source": [
    "## Run the blocks below only for the first time\n",
    "### Install dependencies"
   ]
  },
  {
   "cell_type": "code",
   "execution_count": 1,
   "metadata": {
    "tags": []
   },
   "outputs": [
    {
     "output_type": "stream",
     "name": "stdout",
     "text": "Couldn't find program: 'bash'\n"
    }
   ],
   "source": [
    "%%bash\n",
    "sh env.sh"
   ]
  },
  {
   "cell_type": "markdown",
   "metadata": {},
   "source": [
    "### Download pretrained models (may take a minute)"
   ]
  },
  {
   "cell_type": "code",
   "execution_count": 2,
   "metadata": {
    "tags": []
   },
   "outputs": [
    {
     "output_type": "stream",
     "name": "stdout",
     "text": "[*] Downloading data...\n\n[^] Download complete\n"
    }
   ],
   "source": [
    "import yaml\n",
    "import sys\n",
    "import requests\n",
    "import os\n",
    "import re\n",
    "import tarfile\n",
    "import shutil\n",
    "# for zip file\n",
    "import zipfile\n",
    "\n",
    "\n",
    "# url = \"https://onedrive.live.com/?cid=5435770760f02d2f&id=5435770760F02D2F%211152&authkey=!AD6jcLtyet8Y3o4\"\n",
    "    \n",
    "# r = requests.get(url, allow_redirects=True)\n",
    "\n",
    "# open('cpvton-plus-checkpoints.zip', 'wb').write(r.content)\n",
    "\n",
    "def download(url, filename, cookies=None):\n",
    "    with open(filename, 'wb') as f:\n",
    "        response = requests.get(url, stream=True, cookies=cookies)\n",
    "        total = response.headers.get('content-length')\n",
    "\n",
    "        if total is None:\n",
    "            f.write(response.content)\n",
    "        else:\n",
    "            downloaded = 0\n",
    "            total = int(total)\n",
    "            for data in response.iter_content(chunk_size=max(int(total/1000), 1024*1024)):\n",
    "                downloaded += len(data)\n",
    "                f.write(data)\n",
    "                completed = int(50*downloaded/total)\n",
    "                sys.stdout.write('\\r[{}{}]'.format(\n",
    "                    '█' * completed, '.' * (50-completed)))\n",
    "                sys.stdout.flush()\n",
    "    sys.stdout.write('\\n')\n",
    "drive_request = requests.get(\n",
    "    'https://drive.google.com/uc?export=download&confirm=CONFIRM&id=199dwgFGlumJ95MAGNbLnYtbVKA2w6kdc')\n",
    "confirm_page = drive_request.text\n",
    "confirmation_code = re.findall('confirm=(.{4})', confirm_page)[0]\n",
    "\n",
    "print('[*] Downloading data...')\n",
    "download('https://drive.google.com/uc?export=download&confirm=CONFIRM&id=199dwgFGlumJ95MAGNbLnYtbVKA2w6kdc'.replace(\n",
    "    'CONFIRM', confirmation_code), 'cpvton-plus-checkpoints.zip', cookies=drive_request.cookies)\n",
    "print('[^] Download complete')"
   ]
  },
  {
   "cell_type": "markdown",
   "metadata": {},
   "source": [
    "### Excuate the block below once you see a 'cpvton-plus-checkpoints.zip' in the storage directory\n",
    "#### Extract the checkpoint to 'storage/checkpoints-cpvton-plus' directory and delete the zip file"
   ]
  },
  {
   "cell_type": "code",
   "execution_count": 3,
   "metadata": {},
   "outputs": [
    {
     "output_type": "error",
     "ename": "PermissionError",
     "evalue": "[WinError 32] The process cannot access the file because it is being used by another process: 'cpvton-plus-checkpoints.zip'",
     "traceback": [
      "\u001b[1;31m---------------------------------------------------------------------------\u001b[0m",
      "\u001b[1;31mPermissionError\u001b[0m                           Traceback (most recent call last)",
      "\u001b[1;32m<ipython-input-3-c884e12d298e>\u001b[0m in \u001b[0;36m<module>\u001b[1;34m\u001b[0m\n\u001b[0;32m      6\u001b[0m \u001b[0mshutil\u001b[0m\u001b[1;33m.\u001b[0m\u001b[0mmove\u001b[0m\u001b[1;33m(\u001b[0m\u001b[1;34m'checkpoints-cpvton-plus/checkpoints/TOM/'\u001b[0m\u001b[1;33m,\u001b[0m \u001b[1;34m'checkpoints-cpvton-plus/TOM/'\u001b[0m\u001b[1;33m)\u001b[0m\u001b[1;33m\u001b[0m\u001b[1;33m\u001b[0m\u001b[0m\n\u001b[0;32m      7\u001b[0m \u001b[0mos\u001b[0m\u001b[1;33m.\u001b[0m\u001b[0mrmdir\u001b[0m\u001b[1;33m(\u001b[0m\u001b[1;34m'checkpoints-cpvton-plus/checkpoints'\u001b[0m\u001b[1;33m)\u001b[0m\u001b[1;33m\u001b[0m\u001b[1;33m\u001b[0m\u001b[0m\n\u001b[1;32m----> 8\u001b[1;33m \u001b[0mos\u001b[0m\u001b[1;33m.\u001b[0m\u001b[0mremove\u001b[0m\u001b[1;33m(\u001b[0m\u001b[1;34m'cpvton-plus-checkpoints.zip'\u001b[0m\u001b[1;33m)\u001b[0m\u001b[1;33m\u001b[0m\u001b[1;33m\u001b[0m\u001b[0m\n\u001b[0m",
      "\u001b[1;31mPermissionError\u001b[0m: [WinError 32] The process cannot access the file because it is being used by another process: 'cpvton-plus-checkpoints.zip'"
     ]
    }
   ],
   "source": [
    "if not os.path.exists('checkpoints-cpvton-plus'):\n",
    "    os.makedirs('checkpoints-cpvton-plus')\n",
    "checkpoint = zipfile.ZipFile(\"cpvton-plus-checkpoints.zip\")\n",
    "checkpoint.extractall(path='checkpoints-cpvton-plus')\n",
    "shutil.move('checkpoints-cpvton-plus/checkpoints/GMM/', 'checkpoints-cpvton-plus/GMM/')\n",
    "shutil.move('checkpoints-cpvton-plus/checkpoints/TOM/', 'checkpoints-cpvton-plus/TOM/')\n",
    "os.rmdir('checkpoints-cpvton-plus/checkpoints')\n",
    "os.remove('cpvton-plus-checkpoints.zip')"
   ]
  },
  {
   "cell_type": "markdown",
   "metadata": {},
   "source": [
    "### Download the whole VITON datasets and relocate the data (may take 20 minutes or so)"
   ]
  },
  {
   "cell_type": "code",
   "execution_count": 4,
   "metadata": {},
   "outputs": [],
   "source": [
    "if not os.path.exists('data'):\n",
    "    os.makedirs('data')"
   ]
  },
  {
   "cell_type": "code",
   "execution_count": 5,
   "metadata": {
    "tags": []
   },
   "outputs": [
    {
     "output_type": "stream",
     "name": "stdout",
     "text": "[*] Downloading data...\n\n"
    }
   ],
   "source": [
    "\n",
    "drive_request = requests.get(\n",
    "    'https://drive.google.com/uc?export=download&confirm=CONFIRM&id=1MxCUvKxejnwWnoZ-KoCyMCXo3TLhRuTo')\n",
    "confirm_page = drive_request.text\n",
    "confirmation_code = re.findall('confirm=(.{4})', confirm_page)[0]\n",
    "\n",
    "print('[*] Downloading data...')\n",
    "download('https://drive.google.com/uc?export=download&confirm=CONFIRM&id=1MxCUvKxejnwWnoZ-KoCyMCXo3TLhRuTo'.replace(\n",
    "    'CONFIRM', confirmation_code), 'data/viton_resize.tar.gz', cookies=drive_request.cookies)\n",
    "\n",
    "tarfile.open(\"data/viton_resize.tar.gz\").extractall(path='data/')\n",
    "\n",
    "shutil.move('data/viton_resize/test/', 'data/test/')\n",
    "shutil.move('data/viton_resize/train/', 'data/train/')\n",
    "\n",
    "os.rmdir('data/viton_resize/')\n",
    "os.remove('data/viton_resize.tar.gz')"
   ]
  },
  {
   "cell_type": "markdown",
   "metadata": {},
   "source": [
    "## Run the blocks above only for the first time\n",
    "### Run blocks below for test stage\n",
    "#### Change directory to root \n",
    "##### Run blocks below once you see train and test folders in 'storage/data' directory"
   ]
  },
  {
   "cell_type": "code",
   "execution_count": 6,
   "metadata": {},
   "outputs": [
    {
     "output_type": "error",
     "ename": "FileNotFoundError",
     "evalue": "[WinError 2] The system cannot find the file specified: '../notebooks'",
     "traceback": [
      "\u001b[1;31m---------------------------------------------------------------------------\u001b[0m",
      "\u001b[1;31mFileNotFoundError\u001b[0m                         Traceback (most recent call last)",
      "\u001b[1;32m<ipython-input-6-60fec950ce8a>\u001b[0m in \u001b[0;36m<module>\u001b[1;34m\u001b[0m\n\u001b[0;32m      1\u001b[0m \u001b[1;32mimport\u001b[0m \u001b[0mos\u001b[0m\u001b[1;33m\u001b[0m\u001b[1;33m\u001b[0m\u001b[0m\n\u001b[1;32m----> 2\u001b[1;33m \u001b[0mos\u001b[0m\u001b[1;33m.\u001b[0m\u001b[0mchdir\u001b[0m\u001b[1;33m(\u001b[0m\u001b[1;34m'../notebooks'\u001b[0m\u001b[1;33m)\u001b[0m\u001b[1;33m\u001b[0m\u001b[1;33m\u001b[0m\u001b[0m\n\u001b[0m\u001b[0;32m      3\u001b[0m \u001b[1;32mif\u001b[0m \u001b[1;33m(\u001b[0m\u001b[0mos\u001b[0m\u001b[1;33m.\u001b[0m \u001b[0mgetcwd\u001b[0m\u001b[1;33m(\u001b[0m\u001b[1;33m)\u001b[0m \u001b[1;33m==\u001b[0m \u001b[1;34m'/notebooks'\u001b[0m\u001b[1;33m)\u001b[0m\u001b[1;33m:\u001b[0m\u001b[1;33m\u001b[0m\u001b[1;33m\u001b[0m\u001b[0m\n\u001b[0;32m      4\u001b[0m     \u001b[0mprint\u001b[0m\u001b[1;33m(\u001b[0m\u001b[1;34m'Now working in the right location'\u001b[0m\u001b[1;33m)\u001b[0m\u001b[1;33m\u001b[0m\u001b[1;33m\u001b[0m\u001b[0m\n\u001b[0;32m      5\u001b[0m \u001b[1;32melse\u001b[0m\u001b[1;33m:\u001b[0m\u001b[1;33m\u001b[0m\u001b[1;33m\u001b[0m\u001b[0m\n",
      "\u001b[1;31mFileNotFoundError\u001b[0m: [WinError 2] The system cannot find the file specified: '../notebooks'"
     ]
    }
   ],
   "source": [
    "import os\n",
    "os.chdir('../notebooks')\n",
    "if (os. getcwd() == '/notebooks'):\n",
    "    print('Now working in the right location')\n",
    "else:\n",
    "    print('ERROE! Current directory is:', os. getcwd())\n",
    "        "
   ]
  },
  {
   "cell_type": "markdown",
   "metadata": {},
   "source": [
    "### Build GMM results to wrap the clothes based on test models' poses (I changed the python scripts directly so below commends run by bash)\n",
    "### Each lines may take a long time to run\n",
    "#### You can check the results after the procedure finished"
   ]
  },
  {
   "cell_type": "markdown",
   "metadata": {},
   "source": [
    "### Preprocessing Stage \n",
    "#### Generate stage one sagementation results with neck features"
   ]
  },
  {
   "cell_type": "code",
   "execution_count": 7,
   "metadata": {
    "tags": []
   },
   "outputs": [
    {
     "output_type": "stream",
     "name": "stdout",
     "text": "Couldn't find program: 'bash'\n"
    }
   ],
   "source": [
    "%%bash\n",
    "python dataset_neck_skin_correction.py"
   ]
  },
  {
   "cell_type": "code",
   "execution_count": null,
   "metadata": {},
   "outputs": [],
   "source": [
    "%%bash\n",
    "python body_binary_masking.py"
   ]
  },
  {
   "cell_type": "markdown",
   "metadata": {},
   "source": [
    "### GMM results"
   ]
  },
  {
   "cell_type": "code",
   "execution_count": 8,
   "metadata": {
    "tags": []
   },
   "outputs": [
    {
     "output_type": "stream",
     "name": "stdout",
     "text": "Couldn't find program: 'bash'\n"
    }
   ],
   "source": [
    "%%bash\n",
    "python test.py --name GMM --dataroot storage/data --stage GMM --workers 4 --datamode test --data_list test_pairs.txt --checkpoint storage/checkpoints-cpvton-plus/GMM/gmm_final.pth\n"
   ]
  },
  {
   "cell_type": "code",
   "execution_count": 9,
   "metadata": {
    "tags": []
   },
   "outputs": [
    {
     "output_type": "stream",
     "name": "stdout",
     "text": "Couldn't find program: 'bash'\n"
    }
   ],
   "source": [
    "%%bash\n",
    "cp -r result/GMM/test/warp-cloth storage/data/test\n",
    "cp -r result/GMM/test/warp-mask storage/data/test\n",
    "\n"
   ]
  },
  {
   "cell_type": "code",
   "execution_count": 10,
   "metadata": {
    "tags": []
   },
   "outputs": [
    {
     "output_type": "stream",
     "name": "stdout",
     "text": "Couldn't find program: 'bash'\n"
    }
   ],
   "source": [
    "%%bash\n",
    "python test.py --name TOM --dataroot storage/data --stage TOM --workers 4 --datamode test --data_list test_pairs.txt --checkpoint storage/checkpoints-cpvton-plus/TOM/tom_final.pth"
   ]
  },
  {
   "cell_type": "code",
   "execution_count": 11,
   "metadata": {
    "tags": []
   },
   "outputs": [
    {
     "output_type": "stream",
     "name": "stdout",
     "text": "Couldn't find program: 'bash'\n"
    }
   ],
   "source": [
    "%%bash\n",
    "mv -r result storage/result"
   ]
  },
  {
   "cell_type": "markdown",
   "metadata": {},
   "source": [
    " ### The results for cp-vton-plus now can be checked in 'storage/result/TOM/test/try-on'"
   ]
  },
  {
   "cell_type": "markdown",
   "metadata": {},
   "source": [
    "### Training Stage"
   ]
  },
  {
   "cell_type": "code",
   "execution_count": null,
   "metadata": {},
   "outputs": [],
   "source": [
    "%%bash\n",
    "python train.py --name GMM --dataroot storage/data --stage GMM --workers 4 --checkpoint_dir storage/checkpoints-cpvton-plus/GMM/ --save_count 5000 --shuffle"
   ]
  }
 ],
 "metadata": {
  "kernelspec": {
   "display_name": "Python 3",
   "language": "python",
   "name": "python3"
  },
  "language_info": {
   "codemirror_mode": {
    "name": "ipython",
    "version": 3
   },
   "file_extension": ".py",
   "mimetype": "text/x-python",
   "name": "python",
   "nbconvert_exporter": "python",
   "pygments_lexer": "ipython3",
   "version": "3.6.8-final"
  }
 },
 "nbformat": 4,
 "nbformat_minor": 4
}